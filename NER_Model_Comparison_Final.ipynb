{
  "nbformat": 4,
  "nbformat_minor": 0,
  "metadata": {
    "kernelspec": {
      "display_name": "Python 3",
      "language": "python",
      "name": "python3"
    },
    "language_info": {
      "codemirror_mode": {
        "name": "ipython",
        "version": 3
      },
      "file_extension": ".py",
      "mimetype": "text/x-python",
      "name": "python",
      "nbconvert_exporter": "python",
      "pygments_lexer": "ipython3",
      "version": "3.8.5"
    },
    "colab": {
      "name": "NER_Model_Comparison_LSTM_revised.ipynb",
      "provenance": [],
      "collapsed_sections": [],
      "machine_shape": "hm"
    }
  },
  "cells": [
    {
      "cell_type": "markdown",
      "metadata": {
        "id": "Dr4U_MBzmkTJ"
      },
      "source": [
        "## Named-Entity Recognition Model Comparison"
      ]
    },
    {
      "cell_type": "markdown",
      "metadata": {
        "id": "eu9Pev5gmkTM"
      },
      "source": [
        "### Importing Requirements for data preprocessing"
      ]
    },
    {
      "cell_type": "code",
      "metadata": {
        "id": "FYgGFqHomkTN"
      },
      "source": [
        "import pandas as pd\n",
        "import numpy as np\n",
        "from itertools import chain\n",
        "import time"
      ],
      "execution_count": 1,
      "outputs": []
    },
    {
      "cell_type": "code",
      "metadata": {
        "id": "DsfQUuwKmkTP"
      },
      "source": [
        "# dataset taken from `https://www.kaggle.com/abhinavwalia95/entity-annotated-corpus`\n",
        "dfRaw = pd.read_csv('./ner_dataset.csv', encoding = 'unicode_escape')"
      ],
      "execution_count": 2,
      "outputs": []
    },
    {
      "cell_type": "code",
      "metadata": {
        "colab": {
          "base_uri": "https://localhost:8080/",
          "height": 206
        },
        "id": "kUHbDeZOmkTQ",
        "outputId": "5fd5d660-60c8-457a-fdcf-5972d4de4192"
      },
      "source": [
        "# first five rows\n",
        "dfRaw.head()"
      ],
      "execution_count": 3,
      "outputs": [
        {
          "output_type": "execute_result",
          "data": {
            "text/html": [
              "<div>\n",
              "<style scoped>\n",
              "    .dataframe tbody tr th:only-of-type {\n",
              "        vertical-align: middle;\n",
              "    }\n",
              "\n",
              "    .dataframe tbody tr th {\n",
              "        vertical-align: top;\n",
              "    }\n",
              "\n",
              "    .dataframe thead th {\n",
              "        text-align: right;\n",
              "    }\n",
              "</style>\n",
              "<table border=\"1\" class=\"dataframe\">\n",
              "  <thead>\n",
              "    <tr style=\"text-align: right;\">\n",
              "      <th></th>\n",
              "      <th>Sentence #</th>\n",
              "      <th>Word</th>\n",
              "      <th>POS</th>\n",
              "      <th>Tag</th>\n",
              "    </tr>\n",
              "  </thead>\n",
              "  <tbody>\n",
              "    <tr>\n",
              "      <th>0</th>\n",
              "      <td>Sentence: 1</td>\n",
              "      <td>Thousands</td>\n",
              "      <td>NNS</td>\n",
              "      <td>O</td>\n",
              "    </tr>\n",
              "    <tr>\n",
              "      <th>1</th>\n",
              "      <td>NaN</td>\n",
              "      <td>of</td>\n",
              "      <td>IN</td>\n",
              "      <td>O</td>\n",
              "    </tr>\n",
              "    <tr>\n",
              "      <th>2</th>\n",
              "      <td>NaN</td>\n",
              "      <td>demonstrators</td>\n",
              "      <td>NNS</td>\n",
              "      <td>O</td>\n",
              "    </tr>\n",
              "    <tr>\n",
              "      <th>3</th>\n",
              "      <td>NaN</td>\n",
              "      <td>have</td>\n",
              "      <td>VBP</td>\n",
              "      <td>O</td>\n",
              "    </tr>\n",
              "    <tr>\n",
              "      <th>4</th>\n",
              "      <td>NaN</td>\n",
              "      <td>marched</td>\n",
              "      <td>VBN</td>\n",
              "      <td>O</td>\n",
              "    </tr>\n",
              "  </tbody>\n",
              "</table>\n",
              "</div>"
            ],
            "text/plain": [
              "    Sentence #           Word  POS Tag\n",
              "0  Sentence: 1      Thousands  NNS   O\n",
              "1          NaN             of   IN   O\n",
              "2          NaN  demonstrators  NNS   O\n",
              "3          NaN           have  VBP   O\n",
              "4          NaN        marched  VBN   O"
            ]
          },
          "metadata": {},
          "execution_count": 3
        }
      ]
    },
    {
      "cell_type": "code",
      "metadata": {
        "colab": {
          "base_uri": "https://localhost:8080/",
          "height": 206
        },
        "id": "WgqHCyEomkTS",
        "outputId": "d73fe04a-de8c-4bb5-968e-6f753c33d410"
      },
      "source": [
        "# last five rows\n",
        "dfRaw.tail()"
      ],
      "execution_count": 4,
      "outputs": [
        {
          "output_type": "execute_result",
          "data": {
            "text/html": [
              "<div>\n",
              "<style scoped>\n",
              "    .dataframe tbody tr th:only-of-type {\n",
              "        vertical-align: middle;\n",
              "    }\n",
              "\n",
              "    .dataframe tbody tr th {\n",
              "        vertical-align: top;\n",
              "    }\n",
              "\n",
              "    .dataframe thead th {\n",
              "        text-align: right;\n",
              "    }\n",
              "</style>\n",
              "<table border=\"1\" class=\"dataframe\">\n",
              "  <thead>\n",
              "    <tr style=\"text-align: right;\">\n",
              "      <th></th>\n",
              "      <th>Sentence #</th>\n",
              "      <th>Word</th>\n",
              "      <th>POS</th>\n",
              "      <th>Tag</th>\n",
              "    </tr>\n",
              "  </thead>\n",
              "  <tbody>\n",
              "    <tr>\n",
              "      <th>1048570</th>\n",
              "      <td>NaN</td>\n",
              "      <td>they</td>\n",
              "      <td>PRP</td>\n",
              "      <td>O</td>\n",
              "    </tr>\n",
              "    <tr>\n",
              "      <th>1048571</th>\n",
              "      <td>NaN</td>\n",
              "      <td>responded</td>\n",
              "      <td>VBD</td>\n",
              "      <td>O</td>\n",
              "    </tr>\n",
              "    <tr>\n",
              "      <th>1048572</th>\n",
              "      <td>NaN</td>\n",
              "      <td>to</td>\n",
              "      <td>TO</td>\n",
              "      <td>O</td>\n",
              "    </tr>\n",
              "    <tr>\n",
              "      <th>1048573</th>\n",
              "      <td>NaN</td>\n",
              "      <td>the</td>\n",
              "      <td>DT</td>\n",
              "      <td>O</td>\n",
              "    </tr>\n",
              "    <tr>\n",
              "      <th>1048574</th>\n",
              "      <td>NaN</td>\n",
              "      <td>attack</td>\n",
              "      <td>NN</td>\n",
              "      <td>O</td>\n",
              "    </tr>\n",
              "  </tbody>\n",
              "</table>\n",
              "</div>"
            ],
            "text/plain": [
              "        Sentence #       Word  POS Tag\n",
              "1048570        NaN       they  PRP   O\n",
              "1048571        NaN  responded  VBD   O\n",
              "1048572        NaN         to   TO   O\n",
              "1048573        NaN        the   DT   O\n",
              "1048574        NaN     attack   NN   O"
            ]
          },
          "metadata": {},
          "execution_count": 4
        }
      ]
    },
    {
      "cell_type": "markdown",
      "metadata": {
        "id": "Q50KOF6RmkTT"
      },
      "source": [
        "### Data Preprocessing"
      ]
    },
    {
      "cell_type": "markdown",
      "metadata": {
        "id": "ENCDWDdVmkTT"
      },
      "source": [
        "We assign indices to 'Word' and 'Tag' features, thus converting string to numerical data to train the model."
      ]
    },
    {
      "cell_type": "code",
      "metadata": {
        "id": "T_PmuGxgmkTY"
      },
      "source": [
        "# dataset after initial pre-processing\n",
        "df = dfRaw.copy()"
      ],
      "execution_count": 5,
      "outputs": []
    },
    {
      "cell_type": "code",
      "metadata": {
        "id": "Ki-tVDnvmkTZ"
      },
      "source": [
        "# requirement for categorical encoding\n",
        "from sklearn import preprocessing"
      ],
      "execution_count": 6,
      "outputs": []
    },
    {
      "cell_type": "code",
      "metadata": {
        "id": "fh_YUQGymkTZ"
      },
      "source": [
        "# encoding 'Word' column\n",
        "leWord = preprocessing.LabelEncoder()\n",
        "leWord.fit(df['Word'])\n",
        "df['WordIndx'] = leWord.transform(df['Word'])"
      ],
      "execution_count": 7,
      "outputs": []
    },
    {
      "cell_type": "code",
      "metadata": {
        "id": "zxeL26romkTa"
      },
      "source": [
        "# encoding 'Tag' column\n",
        "leTag = preprocessing.LabelEncoder()\n",
        "leTag.fit(df['Tag'])\n",
        "df['TagIndx'] = leTag.transform(df['Tag'])"
      ],
      "execution_count": 8,
      "outputs": []
    },
    {
      "cell_type": "code",
      "metadata": {
        "colab": {
          "base_uri": "https://localhost:8080/",
          "height": 206
        },
        "id": "fhTf-0_fmkTa",
        "outputId": "2f3a0a7c-95d5-454d-c2ff-46e1456fd68f"
      },
      "source": [
        "df.head()"
      ],
      "execution_count": 9,
      "outputs": [
        {
          "output_type": "execute_result",
          "data": {
            "text/html": [
              "<div>\n",
              "<style scoped>\n",
              "    .dataframe tbody tr th:only-of-type {\n",
              "        vertical-align: middle;\n",
              "    }\n",
              "\n",
              "    .dataframe tbody tr th {\n",
              "        vertical-align: top;\n",
              "    }\n",
              "\n",
              "    .dataframe thead th {\n",
              "        text-align: right;\n",
              "    }\n",
              "</style>\n",
              "<table border=\"1\" class=\"dataframe\">\n",
              "  <thead>\n",
              "    <tr style=\"text-align: right;\">\n",
              "      <th></th>\n",
              "      <th>Sentence #</th>\n",
              "      <th>Word</th>\n",
              "      <th>POS</th>\n",
              "      <th>Tag</th>\n",
              "      <th>WordIndx</th>\n",
              "      <th>TagIndx</th>\n",
              "    </tr>\n",
              "  </thead>\n",
              "  <tbody>\n",
              "    <tr>\n",
              "      <th>0</th>\n",
              "      <td>Sentence: 1</td>\n",
              "      <td>Thousands</td>\n",
              "      <td>NNS</td>\n",
              "      <td>O</td>\n",
              "      <td>15077</td>\n",
              "      <td>16</td>\n",
              "    </tr>\n",
              "    <tr>\n",
              "      <th>1</th>\n",
              "      <td>NaN</td>\n",
              "      <td>of</td>\n",
              "      <td>IN</td>\n",
              "      <td>O</td>\n",
              "      <td>27700</td>\n",
              "      <td>16</td>\n",
              "    </tr>\n",
              "    <tr>\n",
              "      <th>2</th>\n",
              "      <td>NaN</td>\n",
              "      <td>demonstrators</td>\n",
              "      <td>NNS</td>\n",
              "      <td>O</td>\n",
              "      <td>20969</td>\n",
              "      <td>16</td>\n",
              "    </tr>\n",
              "    <tr>\n",
              "      <th>3</th>\n",
              "      <td>NaN</td>\n",
              "      <td>have</td>\n",
              "      <td>VBP</td>\n",
              "      <td>O</td>\n",
              "      <td>24218</td>\n",
              "      <td>16</td>\n",
              "    </tr>\n",
              "    <tr>\n",
              "      <th>4</th>\n",
              "      <td>NaN</td>\n",
              "      <td>marched</td>\n",
              "      <td>VBN</td>\n",
              "      <td>O</td>\n",
              "      <td>26434</td>\n",
              "      <td>16</td>\n",
              "    </tr>\n",
              "  </tbody>\n",
              "</table>\n",
              "</div>"
            ],
            "text/plain": [
              "    Sentence #           Word  POS Tag  WordIndx  TagIndx\n",
              "0  Sentence: 1      Thousands  NNS   O     15077       16\n",
              "1          NaN             of   IN   O     27700       16\n",
              "2          NaN  demonstrators  NNS   O     20969       16\n",
              "3          NaN           have  VBP   O     24218       16\n",
              "4          NaN        marched  VBN   O     26434       16"
            ]
          },
          "metadata": {},
          "execution_count": 9
        }
      ]
    },
    {
      "cell_type": "markdown",
      "metadata": {
        "id": "oInhOe-pmkTb"
      },
      "source": [
        "#### Further Preprocessing"
      ]
    },
    {
      "cell_type": "code",
      "metadata": {
        "colab": {
          "base_uri": "https://localhost:8080/",
          "height": 483
        },
        "id": "Dx69d9dYmkTc",
        "outputId": "b95e2942-e1e2-4f53-ed3b-36acd2b26cf3"
      },
      "source": [
        "# grouping the rows in sentences\n",
        "dfNaN = df.fillna(method = 'ffill', axis = 0)\n",
        "dfGrouped = dfNaN.groupby(['Sentence #'], as_index = False)[['Word', 'POS', 'Tag', 'WordIndx', 'TagIndx']].agg(lambda x : list(x))\n",
        "dfGrouped = dfGrouped.sample(frac=1).reset_index(drop=True)\n",
        "dfGrouped.head()"
      ],
      "execution_count": 10,
      "outputs": [
        {
          "output_type": "execute_result",
          "data": {
            "text/html": [
              "<div>\n",
              "<style scoped>\n",
              "    .dataframe tbody tr th:only-of-type {\n",
              "        vertical-align: middle;\n",
              "    }\n",
              "\n",
              "    .dataframe tbody tr th {\n",
              "        vertical-align: top;\n",
              "    }\n",
              "\n",
              "    .dataframe thead th {\n",
              "        text-align: right;\n",
              "    }\n",
              "</style>\n",
              "<table border=\"1\" class=\"dataframe\">\n",
              "  <thead>\n",
              "    <tr style=\"text-align: right;\">\n",
              "      <th></th>\n",
              "      <th>Sentence #</th>\n",
              "      <th>Word</th>\n",
              "      <th>POS</th>\n",
              "      <th>Tag</th>\n",
              "      <th>WordIndx</th>\n",
              "      <th>TagIndx</th>\n",
              "    </tr>\n",
              "  </thead>\n",
              "  <tbody>\n",
              "    <tr>\n",
              "      <th>0</th>\n",
              "      <td>Sentence: 33985</td>\n",
              "      <td>[Mr., Chavez, used, his, Sunday, radio, and, t...</td>\n",
              "      <td>[NNP, NNP, VBD, PRP$, NNP, NN, CC, NN, NN, TO,...</td>\n",
              "      <td>[B-per, I-per, O, O, B-tim, O, O, O, O, O, O, ...</td>\n",
              "      <td>[10809, 4530, 34327, 24457, 14607, 29631, 1736...</td>\n",
              "      <td>[6, 14, 16, 16, 7, 16, 16, 16, 16, 16, 16, 6, ...</td>\n",
              "    </tr>\n",
              "    <tr>\n",
              "      <th>1</th>\n",
              "      <td>Sentence: 44213</td>\n",
              "      <td>[Tensions, rose, last, week, after, Chadian, f...</td>\n",
              "      <td>[NNS, VBD, JJ, NN, IN, JJ, NNS, VBN, IN, NNS, ...</td>\n",
              "      <td>[O, O, O, O, O, B-gpe, O, O, O, O, O, B-geo, O...</td>\n",
              "      <td>[14971, 30828, 25785, 34782, 16915, 4458, 2330...</td>\n",
              "      <td>[16, 16, 16, 16, 16, 3, 16, 16, 16, 16, 16, 2,...</td>\n",
              "    </tr>\n",
              "    <tr>\n",
              "      <th>2</th>\n",
              "      <td>Sentence: 36831</td>\n",
              "      <td>[The, conservatives, started, out, the, campai...</td>\n",
              "      <td>[DT, NNS, VBD, RP, DT, NN, IN, DT, JJ, NN, ,, ...</td>\n",
              "      <td>[O, O, O, O, O, O, O, O, O, O, O, O, O, O, O, ...</td>\n",
              "      <td>[15029, 20044, 32327, 27959, 33246, 18926, 349...</td>\n",
              "      <td>[16, 16, 16, 16, 16, 16, 16, 16, 16, 16, 16, 1...</td>\n",
              "    </tr>\n",
              "    <tr>\n",
              "      <th>3</th>\n",
              "      <td>Sentence: 3139</td>\n",
              "      <td>[The, military, says, that, 13, other, service...</td>\n",
              "      <td>[DT, JJ, VBZ, IN, CD, JJ, NN, NNS, VBD, VBN, I...</td>\n",
              "      <td>[O, O, O, O, O, O, O, O, O, O, O, O, O, O, O, ...</td>\n",
              "      <td>[15029, 26776, 31036, 33242, 367, 27948, 31358...</td>\n",
              "      <td>[16, 16, 16, 16, 16, 16, 16, 16, 16, 16, 16, 1...</td>\n",
              "    </tr>\n",
              "    <tr>\n",
              "      <th>4</th>\n",
              "      <td>Sentence: 43603</td>\n",
              "      <td>[It, says, the, two, leaders, will, also, revi...</td>\n",
              "      <td>[PRP, VBZ, DT, CD, NNS, MD, RB, VB, JJ, NNS, C...</td>\n",
              "      <td>[O, O, O, O, O, O, O, O, O, O, O, O, O, O, O, ...</td>\n",
              "      <td>[8298, 31036, 33246, 33885, 25852, 34920, 1728...</td>\n",
              "      <td>[16, 16, 16, 16, 16, 16, 16, 16, 16, 16, 16, 1...</td>\n",
              "    </tr>\n",
              "  </tbody>\n",
              "</table>\n",
              "</div>"
            ],
            "text/plain": [
              "        Sentence #  ...                                            TagIndx\n",
              "0  Sentence: 33985  ...  [6, 14, 16, 16, 7, 16, 16, 16, 16, 16, 16, 6, ...\n",
              "1  Sentence: 44213  ...  [16, 16, 16, 16, 16, 3, 16, 16, 16, 16, 16, 2,...\n",
              "2  Sentence: 36831  ...  [16, 16, 16, 16, 16, 16, 16, 16, 16, 16, 16, 1...\n",
              "3   Sentence: 3139  ...  [16, 16, 16, 16, 16, 16, 16, 16, 16, 16, 16, 1...\n",
              "4  Sentence: 43603  ...  [16, 16, 16, 16, 16, 16, 16, 16, 16, 16, 16, 1...\n",
              "\n",
              "[5 rows x 6 columns]"
            ]
          },
          "metadata": {},
          "execution_count": 10
        }
      ]
    },
    {
      "cell_type": "markdown",
      "metadata": {
        "id": "4aOkl7i6mkTd"
      },
      "source": [
        "#### Visualizing the sentence lengths"
      ]
    },
    {
      "cell_type": "code",
      "metadata": {
        "id": "THHrIdMkmkTd"
      },
      "source": [
        "import matplotlib.pyplot as plt"
      ],
      "execution_count": 11,
      "outputs": []
    },
    {
      "cell_type": "code",
      "metadata": {
        "colab": {
          "base_uri": "https://localhost:8080/",
          "height": 279
        },
        "id": "vGH0RA31mkTe",
        "outputId": "f9c18fe3-fffe-421b-927d-7ae3398ba1d9"
      },
      "source": [
        "plt.hist([len(s) for s in dfGrouped['Word']], bins = 50)\n",
        "plt.xlabel('No. of words in sentence')\n",
        "plt.ylabel('No. of sentences with word count')\n",
        "plt.show()"
      ],
      "execution_count": 12,
      "outputs": [
        {
          "output_type": "display_data",
          "data": {
            "image/png": "[encoded data removed]",
            "text/plain": [
              "<Figure size 432x288 with 1 Axes>"
            ]
          },
          "metadata": {
            "needs_background": "light"
          }
        }
      ]
    },
    {
      "cell_type": "markdown",
      "metadata": {
        "id": "ilsxXocmmkTe"
      },
      "source": [
        "The length of sentences are ununiform therefore padding is required to make the sentence length uniform."
      ]
    },
    {
      "cell_type": "markdown",
      "metadata": {
        "id": "5wN1dXWKmkTf"
      },
      "source": [
        "#### Padding the data"
      ]
    },
    {
      "cell_type": "code",
      "metadata": {
        "id": "F1yrik1dmkTf"
      },
      "source": [
        "from keras.preprocessing.sequence import pad_sequences\n",
        "from tensorflow.keras.utils import to_categorical"
      ],
      "execution_count": 13,
      "outputs": []
    },
    {
      "cell_type": "code",
      "metadata": {
        "id": "6V-sqWdzmkTg"
      },
      "source": [
        "def padData(groupedData, mainData):\n",
        "    \n",
        "    nWord = len(list(set(mainData['Word'].to_list())))\n",
        "    nTags = len(list(set(mainData['Tag'].to_list())))\n",
        "    \n",
        "    # Padding Words \"X variables\"\n",
        "    wordIndx  = groupedData['WordIndx'].tolist()\n",
        "    maxlen = max([len(s) for s in wordIndx])\n",
        "    padWord = pad_sequences(wordIndx, maxlen = maxlen, dtype = 'int32', \n",
        "                            padding = 'post', value = 27700)\n",
        "    \n",
        "    \n",
        "    # padding Y var\n",
        "    tagIndx = groupedData['TagIndx'].tolist()\n",
        "    padTags = pad_sequences(tagIndx, maxlen=maxlen, dtype='int32', padding='post', value= 16)\n",
        "    \n",
        "    \n",
        "    # converting to binary encoded \n",
        "    n_tags = df['TagIndx'].nunique()\n",
        "    padTags = [to_categorical(i, num_classes=n_tags) for i in padTags]\n",
        "    \n",
        "    return padWord, padTags\n",
        "    "
      ],
      "execution_count": 14,
      "outputs": []
    },
    {
      "cell_type": "markdown",
      "metadata": {
        "id": "0MuSMmaemkTg"
      },
      "source": [
        "#### Test-Train-Validation Split"
      ]
    },
    {
      "cell_type": "code",
      "metadata": {
        "id": "w6N0bhHVmkTh"
      },
      "source": [
        "from sklearn.model_selection import train_test_split"
      ],
      "execution_count": 15,
      "outputs": []
    },
    {
      "cell_type": "code",
      "metadata": {
        "id": "UEh5oSl3mkTh"
      },
      "source": [
        "def dataSplit(X, y):\n",
        "    X_train, X_test, y_train, y_test = train_test_split(X, y, test_size=0.2, train_size=0.8, random_state=50)\n",
        "    \n",
        "    return X_train, X_test, y_train, y_test"
      ],
      "execution_count": 16,
      "outputs": []
    },
    {
      "cell_type": "code",
      "metadata": {
        "id": "JkkTR_XXmkTh"
      },
      "source": [
        "X, y = padData(dfGrouped, df)"
      ],
      "execution_count": 17,
      "outputs": []
    },
    {
      "cell_type": "code",
      "metadata": {
        "colab": {
          "base_uri": "https://localhost:8080/",
          "height": 282
        },
        "id": "GHIgx4McyhCv",
        "outputId": "f03d3f99-a036-46e3-e2b4-f08fdd31952b"
      },
      "source": [
        "# Visualizing padded data\n",
        "plt.hist([len(s) for s in X])\n",
        "plt.xlabel('No. of words in sentence')\n",
        "plt.ylabel('No. of sentences with word count')\n",
        "plt.show()"
      ],
      "execution_count": 18,
      "outputs": [
        {
          "output_type": "display_data",
          "data": {
            "image/png": "[encoded data removed]",
            "text/plain": [
              "<Figure size 432x288 with 1 Axes>"
            ]
          },
          "metadata": {
            "needs_background": "light"
          }
        }
      ]
    },
    {
      "cell_type": "markdown",
      "metadata": {
        "id": "33UCBHmuyjBy"
      },
      "source": [
        "After padding length of each sentence is same i.e. 104"
      ]
    },
    {
      "cell_type": "code",
      "metadata": {
        "id": "FTNd2seCmkTi"
      },
      "source": [
        "X_train, X_test, y_train, y_test  = dataSplit(X, y)"
      ],
      "execution_count": 19,
      "outputs": []
    },
    {
      "cell_type": "markdown",
      "metadata": {
        "id": "sEGtOnPZmkTj"
      },
      "source": [
        "### LSTM"
      ]
    },
    {
      "cell_type": "code",
      "metadata": {
        "id": "Wkx4mP9HnVtp",
        "colab": {
          "base_uri": "https://localhost:8080/"
        },
        "outputId": "7d93d8c7-6872-4e0e-8c42-ebe64eb9c7c5"
      },
      "source": [
        "!pip install livelossplot"
      ],
      "execution_count": 20,
      "outputs": [
        {
          "output_type": "stream",
          "name": "stdout",
          "text": [
            "Requirement already satisfied: livelossplot in /usr/local/lib/python3.7/dist-packages (0.5.4)\n",
            "Requirement already satisfied: matplotlib in /usr/local/lib/python3.7/dist-packages (from livelossplot) (3.2.2)\n",
            "Requirement already satisfied: bokeh in /usr/local/lib/python3.7/dist-packages (from livelossplot) (2.3.3)\n",
            "Requirement already satisfied: ipython in /usr/local/lib/python3.7/dist-packages (from livelossplot) (5.5.0)\n",
            "Requirement already satisfied: typing-extensions>=3.7.4 in /usr/local/lib/python3.7/dist-packages (from bokeh->livelossplot) (3.10.0.2)\n",
            "Requirement already satisfied: numpy>=1.11.3 in /usr/local/lib/python3.7/dist-packages (from bokeh->livelossplot) (1.19.5)\n",
            "Requirement already satisfied: packaging>=16.8 in /usr/local/lib/python3.7/dist-packages (from bokeh->livelossplot) (21.3)\n",
            "Requirement already satisfied: PyYAML>=3.10 in /usr/local/lib/python3.7/dist-packages (from bokeh->livelossplot) (3.13)\n",
            "Requirement already satisfied: python-dateutil>=2.1 in /usr/local/lib/python3.7/dist-packages (from bokeh->livelossplot) (2.8.2)\n",
            "Requirement already satisfied: Jinja2>=2.9 in /usr/local/lib/python3.7/dist-packages (from bokeh->livelossplot) (2.11.3)\n",
            "Requirement already satisfied: tornado>=5.1 in /usr/local/lib/python3.7/dist-packages (from bokeh->livelossplot) (5.1.1)\n",
            "Requirement already satisfied: pillow>=7.1.0 in /usr/local/lib/python3.7/dist-packages (from bokeh->livelossplot) (7.1.2)\n",
            "Requirement already satisfied: MarkupSafe>=0.23 in /usr/local/lib/python3.7/dist-packages (from Jinja2>=2.9->bokeh->livelossplot) (2.0.1)\n",
            "Requirement already satisfied: pyparsing!=3.0.5,>=2.0.2 in /usr/local/lib/python3.7/dist-packages (from packaging>=16.8->bokeh->livelossplot) (3.0.6)\n",
            "Requirement already satisfied: six>=1.5 in /usr/local/lib/python3.7/dist-packages (from python-dateutil>=2.1->bokeh->livelossplot) (1.15.0)\n",
            "Requirement already satisfied: pickleshare in /usr/local/lib/python3.7/dist-packages (from ipython->livelossplot) (0.7.5)\n",
            "Requirement already satisfied: simplegeneric>0.8 in /usr/local/lib/python3.7/dist-packages (from ipython->livelossplot) (0.8.1)\n",
            "Requirement already satisfied: setuptools>=18.5 in /usr/local/lib/python3.7/dist-packages (from ipython->livelossplot) (57.4.0)\n",
            "Requirement already satisfied: decorator in /usr/local/lib/python3.7/dist-packages (from ipython->livelossplot) (4.4.2)\n",
            "Requirement already satisfied: prompt-toolkit<2.0.0,>=1.0.4 in /usr/local/lib/python3.7/dist-packages (from ipython->livelossplot) (1.0.18)\n",
            "Requirement already satisfied: pygments in /usr/local/lib/python3.7/dist-packages (from ipython->livelossplot) (2.6.1)\n",
            "Requirement already satisfied: pexpect in /usr/local/lib/python3.7/dist-packages (from ipython->livelossplot) (4.8.0)\n",
            "Requirement already satisfied: traitlets>=4.2 in /usr/local/lib/python3.7/dist-packages (from ipython->livelossplot) (5.1.1)\n",
            "Requirement already satisfied: wcwidth in /usr/local/lib/python3.7/dist-packages (from prompt-toolkit<2.0.0,>=1.0.4->ipython->livelossplot) (0.2.5)\n",
            "Requirement already satisfied: kiwisolver>=1.0.1 in /usr/local/lib/python3.7/dist-packages (from matplotlib->livelossplot) (1.3.2)\n",
            "Requirement already satisfied: cycler>=0.10 in /usr/local/lib/python3.7/dist-packages (from matplotlib->livelossplot) (0.11.0)\n",
            "Requirement already satisfied: ptyprocess>=0.5 in /usr/local/lib/python3.7/dist-packages (from pexpect->ipython->livelossplot) (0.7.0)\n"
          ]
        }
      ]
    },
    {
      "cell_type": "code",
      "metadata": {
        "id": "JNtvU9PkmkTj"
      },
      "source": [
        "from tensorflow.keras import Model,Input, Sequential\n",
        "from tensorflow.keras.layers import LSTM,Embedding,Dense\n",
        "from tensorflow.keras.layers import TimeDistributed, SpatialDropout1D,Bidirectional\n",
        "from tensorflow.keras.callbacks import ModelCheckpoint,EarlyStopping\n",
        "from livelossplot.tf_keras import PlotLossesCallback"
      ],
      "execution_count": 21,
      "outputs": []
    },
    {
      "cell_type": "code",
      "metadata": {
        "colab": {
          "base_uri": "https://localhost:8080/"
        },
        "id": "fVHMoTcxmkTk",
        "outputId": "558587cf-874f-4d3c-f4a0-5848ba8f448c"
      },
      "source": [
        "input_dim = len(list(set(df['Word'].to_list()))) + 1\n",
        "output_dim = 64 # arbritrary number\n",
        "input_length = max([len(s) for s in dfGrouped['WordIndx'].tolist()])\n",
        "n_tags = df['TagIndx'].nunique()\n",
        "print('input_dim: ', input_dim, '\\noutput_dim: ', \n",
        "      output_dim, '\\ninput_length: ', input_length, '\\nn_tags: ', n_tags)"
      ],
      "execution_count": 22,
      "outputs": [
        {
          "output_type": "stream",
          "name": "stdout",
          "text": [
            "input_dim:  35179 \n",
            "output_dim:  64 \n",
            "input_length:  104 \n",
            "n_tags:  17\n"
          ]
        }
      ]
    },
    {
      "cell_type": "code",
      "metadata": {
        "id": "US1QEtjTmkTl"
      },
      "source": [
        "def LstmModel():\n",
        "    input_layer = Input(shape=(input_length,))\n",
        "    model = Embedding(input_dim=input_dim, output_dim=output_dim, \n",
        "                      input_length=input_length)(input_layer)\n",
        "    model = LSTM(units=64,return_sequences=True,recurrent_dropout=0.1)(model)\n",
        "    out = TimeDistributed(Dense(n_tags,activation='softmax'))(model)\n",
        "    model = Model(input_layer, out)\n",
        "    model.compile(loss='categorical_crossentropy', optimizer='adam', metrics=['accuracy'])\n",
        "    model.summary()\n",
        "    \n",
        "    return model"
      ],
      "execution_count": 23,
      "outputs": []
    },
    {
      "cell_type": "code",
      "metadata": {
        "id": "6j8LulMgmkTl"
      },
      "source": [
        "def BiLstm():\n",
        "    input_layer = Input(shape=(input_length,))\n",
        "    model = Embedding(input_dim=input_dim, output_dim=output_dim, \n",
        "                      input_length=input_length)(input_layer)\n",
        "    model = LSTM(units=64,return_sequences=True,recurrent_dropout=0.1)(model)\n",
        "    model = Bidirectional(LSTM(units=64,return_sequences=True,recurrent_dropout=0.1))(model)\n",
        "    out = TimeDistributed(Dense(n_tags,activation='softmax'))(model)\n",
        "    model = Model(input_layer, out)\n",
        "    model.compile(loss='categorical_crossentropy', optimizer='adam', metrics=['accuracy'])\n",
        "    model.summary()\n",
        "    \n",
        "    return model\n",
        "    "
      ],
      "execution_count": 24,
      "outputs": []
    },
    {
      "cell_type": "code",
      "metadata": {
        "colab": {
          "base_uri": "https://localhost:8080/"
        },
        "id": "q8jJ1Wf1mkTm",
        "outputId": "242526db-4f12-47d5-cee7-3d8137ab0daf"
      },
      "source": [
        "LSTMmodel = LstmModel()"
      ],
      "execution_count": 25,
      "outputs": [
        {
          "output_type": "stream",
          "name": "stdout",
          "text": [
            "Model: \"model\"\n",
            "_________________________________________________________________\n",
            " Layer (type)                Output Shape              Param #   \n",
            "=================================================================\n",
            " input_1 (InputLayer)        [(None, 104)]             0         \n",
            "                                                                 \n",
            " embedding (Embedding)       (None, 104, 64)           2251456   \n",
            "                                                                 \n",
            " lstm (LSTM)                 (None, 104, 64)           33024     \n",
            "                                                                 \n",
            " time_distributed (TimeDistr  (None, 104, 17)          1105      \n",
            " ibuted)                                                         \n",
            "                                                                 \n",
            "=================================================================\n",
            "Total params: 2,285,585\n",
            "Trainable params: 2,285,585\n",
            "Non-trainable params: 0\n",
            "_________________________________________________________________\n"
          ]
        }
      ]
    },
    {
      "cell_type": "code",
      "metadata": {
        "colab": {
          "base_uri": "https://localhost:8080/"
        },
        "id": "LThezDJXmkTn",
        "outputId": "d7d6f0a8-a19e-43c4-b0ee-4d043b80223e"
      },
      "source": [
        "BiLSTMmodel = BiLstm()"
      ],
      "execution_count": 26,
      "outputs": [
        {
          "output_type": "stream",
          "name": "stdout",
          "text": [
            "Model: \"model_1\"\n",
            "_________________________________________________________________\n",
            " Layer (type)                Output Shape              Param #   \n",
            "=================================================================\n",
            " input_2 (InputLayer)        [(None, 104)]             0         \n",
            "                                                                 \n",
            " embedding_1 (Embedding)     (None, 104, 64)           2251456   \n",
            "                                                                 \n",
            " lstm_1 (LSTM)               (None, 104, 64)           33024     \n",
            "                                                                 \n",
            " bidirectional (Bidirectiona  (None, 104, 128)         66048     \n",
            " l)                                                              \n",
            "                                                                 \n",
            " time_distributed_1 (TimeDis  (None, 104, 17)          2193      \n",
            " tributed)                                                       \n",
            "                                                                 \n",
            "=================================================================\n",
            "Total params: 2,352,721\n",
            "Trainable params: 2,352,721\n",
            "Non-trainable params: 0\n",
            "_________________________________________________________________\n"
          ]
        }
      ]
    },
    {
      "cell_type": "markdown",
      "metadata": {
        "id": "qNxsMcQckNmF"
      },
      "source": [
        "### CRF"
      ]
    },
    {
      "cell_type": "code",
      "metadata": {
        "colab": {
          "base_uri": "https://localhost:8080/"
        },
        "id": "8ZeiBHlClO_A",
        "outputId": "fbdb6ea5-50c0-4378-9533-a7997f851fae"
      },
      "source": [
        "!pip install git+https://www.github.com/keras-team/keras-contrib.git"
      ],
      "execution_count": 27,
      "outputs": [
        {
          "output_type": "stream",
          "name": "stdout",
          "text": [
            "Collecting git+https://www.github.com/keras-team/keras-contrib.git\n",
            "  Cloning https://www.github.com/keras-team/keras-contrib.git to /tmp/pip-req-build-gvupemft\n",
            "  Running command git clone -q https://www.github.com/keras-team/keras-contrib.git /tmp/pip-req-build-gvupemft\n",
            "Requirement already satisfied: keras in /usr/local/lib/python3.7/dist-packages (from keras-contrib==2.0.8) (2.7.0)\n"
          ]
        }
      ]
    },
    {
      "cell_type": "code",
      "metadata": {
        "colab": {
          "base_uri": "https://localhost:8080/"
        },
        "id": "vNwxmwvhpDT2",
        "outputId": "d7dd48f1-9589-41b0-a5a6-cce8e4e82b8f"
      },
      "source": [
        "!pip install tensorflow-addons"
      ],
      "execution_count": 28,
      "outputs": [
        {
          "output_type": "stream",
          "name": "stdout",
          "text": [
            "Requirement already satisfied: tensorflow-addons in /usr/local/lib/python3.7/dist-packages (0.15.0)\n",
            "Requirement already satisfied: typeguard>=2.7 in /usr/local/lib/python3.7/dist-packages (from tensorflow-addons) (2.7.1)\n"
          ]
        }
      ]
    },
    {
      "cell_type": "code",
      "metadata": {
        "id": "3p1H5it3lUOU"
      },
      "source": [
        "from keras_contrib.losses import crf_loss\n",
        "from keras_contrib.metrics import crf_accuracy"
      ],
      "execution_count": 29,
      "outputs": []
    },
    {
      "cell_type": "code",
      "metadata": {
        "id": "F3SRuAZMsNAM"
      },
      "source": [
        "from tensorflow_addons.layers import CRF as crf\n",
        "from tensorflow_addons.losses import SigmoidFocalCrossEntropy\n",
        "from tensorflow_addons import metrics"
      ],
      "execution_count": 30,
      "outputs": []
    },
    {
      "cell_type": "code",
      "metadata": {
        "id": "K0DPQHrpteC5"
      },
      "source": [
        "def Crf():\n",
        "  input_layer = Input(shape=(input_length,))\n",
        "  model = Embedding(input_dim=input_dim, output_dim=output_dim, \n",
        "                      input_length=input_length)(input_layer)\n",
        "  model = Dense(64,activation='softmax')(model)\n",
        "  model = Dense(n_tags,activation='softmax')(model)\n",
        "  crf_layer = crf(n_tags)\n",
        "  _, out, _, _ = crf_layer(model)\n",
        "  model = Model(input_layer, out)\n",
        "  print(model.summary())\n",
        "  model.compile(optimizer='adam', loss = SigmoidFocalCrossEntropy(), \n",
        "                metrics = ['accuracy'])\n",
        "\n",
        "  return model"
      ],
      "execution_count": 31,
      "outputs": []
    },
    {
      "cell_type": "code",
      "metadata": {
        "id": "AngJunq7mkTo"
      },
      "source": [
        "def LSTM_CRF():\n",
        "  input_layer = Input(shape=(input_length,))\n",
        "  model = Embedding(input_dim=input_dim, output_dim=output_dim, \n",
        "                      input_length=input_length)(input_layer)\n",
        "  model = LSTM(units=64,return_sequences=True,recurrent_dropout=0.1)(model)\n",
        "  model = TimeDistributed(Dense(n_tags,activation='relu'))(model)\n",
        "  crf_layer = crf(n_tags)\n",
        "  _, out, _, _ = crf_layer(model)\n",
        "  model = Model(input_layer, out)\n",
        "  print(model.summary())\n",
        "  model.compile(optimizer='adam', loss = SigmoidFocalCrossEntropy(), \n",
        "                metrics = ['accuracy'])\n",
        "\n",
        "  return model"
      ],
      "execution_count": 32,
      "outputs": []
    },
    {
      "cell_type": "code",
      "metadata": {
        "id": "RyUBD3wbvCif"
      },
      "source": [
        "def BiLSTM_CRF():\n",
        "  input_layer = Input(shape=(input_length,))\n",
        "  model = Embedding(input_dim=input_dim, output_dim=output_dim, \n",
        "                      input_length=input_length)(input_layer)\n",
        "  model = LSTM(units=64,return_sequences=True,recurrent_dropout=0.1)(model)\n",
        "  model = Bidirectional(LSTM(units=64,return_sequences=True,\n",
        "                             recurrent_dropout=0.1))(model)\n",
        "  model = TimeDistributed(Dense(n_tags,activation='relu'))(model)\n",
        "  crf_layer = crf(n_tags)\n",
        "  _, out, _, _ = crf_layer(model)\n",
        "  model = Model(input_layer, out)\n",
        "  print(model.summary())\n",
        "  model.compile(optimizer='adam', loss = SigmoidFocalCrossEntropy(), \n",
        "                metrics = ['accuracy'])\n",
        "\n",
        "  return model"
      ],
      "execution_count": 33,
      "outputs": []
    },
    {
      "cell_type": "code",
      "metadata": {
        "colab": {
          "base_uri": "https://localhost:8080/"
        },
        "id": "SY1zlXRBtx7B",
        "outputId": "3d8fc432-1519-41fe-9de2-781dfc00e933"
      },
      "source": [
        "crf_model = Crf()"
      ],
      "execution_count": 34,
      "outputs": [
        {
          "output_type": "stream",
          "name": "stdout",
          "text": [
            "Model: \"model_2\"\n",
            "_________________________________________________________________\n",
            " Layer (type)                Output Shape              Param #   \n",
            "=================================================================\n",
            " input_3 (InputLayer)        [(None, 104)]             0         \n",
            "                                                                 \n",
            " embedding_2 (Embedding)     (None, 104, 64)           2251456   \n",
            "                                                                 \n",
            " dense_2 (Dense)             (None, 104, 64)           4160      \n",
            "                                                                 \n",
            " dense_3 (Dense)             (None, 104, 17)           1105      \n",
            "                                                                 \n",
            " crf (CRF)                   [(None, 104),             629       \n",
            "                              (None, 104, 17),                   \n",
            "                              (None,),                           \n",
            "                              (17, 17)]                          \n",
            "                                                                 \n",
            "=================================================================\n",
            "Total params: 2,257,350\n",
            "Trainable params: 2,257,350\n",
            "Non-trainable params: 0\n",
            "_________________________________________________________________\n",
            "None\n"
          ]
        }
      ]
    },
    {
      "cell_type": "code",
      "metadata": {
        "colab": {
          "base_uri": "https://localhost:8080/"
        },
        "id": "huBItKhglphV",
        "outputId": "80d856d4-4dd1-4654-bc05-0543e4d079a9"
      },
      "source": [
        "crf_lstm = LSTM_CRF()"
      ],
      "execution_count": 35,
      "outputs": [
        {
          "output_type": "stream",
          "name": "stdout",
          "text": [
            "Model: \"model_3\"\n",
            "_________________________________________________________________\n",
            " Layer (type)                Output Shape              Param #   \n",
            "=================================================================\n",
            " input_4 (InputLayer)        [(None, 104)]             0         \n",
            "                                                                 \n",
            " embedding_3 (Embedding)     (None, 104, 64)           2251456   \n",
            "                                                                 \n",
            " lstm_3 (LSTM)               (None, 104, 64)           33024     \n",
            "                                                                 \n",
            " time_distributed_2 (TimeDis  (None, 104, 17)          1105      \n",
            " tributed)                                                       \n",
            "                                                                 \n",
            " crf_1 (CRF)                 [(None, 104),             629       \n",
            "                              (None, 104, 17),                   \n",
            "                              (None,),                           \n",
            "                              (17, 17)]                          \n",
            "                                                                 \n",
            "=================================================================\n",
            "Total params: 2,286,214\n",
            "Trainable params: 2,286,214\n",
            "Non-trainable params: 0\n",
            "_________________________________________________________________\n",
            "None\n"
          ]
        }
      ]
    },
    {
      "cell_type": "code",
      "metadata": {
        "colab": {
          "base_uri": "https://localhost:8080/"
        },
        "id": "iEmAxx-Mwv3X",
        "outputId": "82a62caa-88eb-4bc9-c3c0-63a9208cddd9"
      },
      "source": [
        "crf_BiLstm = BiLSTM_CRF()"
      ],
      "execution_count": 36,
      "outputs": [
        {
          "output_type": "stream",
          "name": "stdout",
          "text": [
            "Model: \"model_4\"\n",
            "_________________________________________________________________\n",
            " Layer (type)                Output Shape              Param #   \n",
            "=================================================================\n",
            " input_5 (InputLayer)        [(None, 104)]             0         \n",
            "                                                                 \n",
            " embedding_4 (Embedding)     (None, 104, 64)           2251456   \n",
            "                                                                 \n",
            " lstm_4 (LSTM)               (None, 104, 64)           33024     \n",
            "                                                                 \n",
            " bidirectional_1 (Bidirectio  (None, 104, 128)         66048     \n",
            " nal)                                                            \n",
            "                                                                 \n",
            " time_distributed_3 (TimeDis  (None, 104, 17)          2193      \n",
            " tributed)                                                       \n",
            "                                                                 \n",
            " crf_2 (CRF)                 [(None, 104),             629       \n",
            "                              (None, 104, 17),                   \n",
            "                              (None,),                           \n",
            "                              (17, 17)]                          \n",
            "                                                                 \n",
            "=================================================================\n",
            "Total params: 2,353,350\n",
            "Trainable params: 2,353,350\n",
            "Non-trainable params: 0\n",
            "_________________________________________________________________\n",
            "None\n"
          ]
        }
      ]
    },
    {
      "cell_type": "markdown",
      "metadata": {
        "id": "PCbxUi70v0pA"
      },
      "source": [
        "### Training and Evaluation"
      ]
    },
    {
      "cell_type": "code",
      "metadata": {
        "id": "ypF5eM3HmkTn"
      },
      "source": [
        "def train_model(X, y, model, numEpoch, nameFile):\n",
        "    early_stopping = EarlyStopping(monitor='val_accuracy',\n",
        "                                   patience=5, verbose=0, mode='max',\n",
        "                                   restore_best_weights= False)\n",
        "    callbacks = [PlotLossesCallback(),early_stopping]\n",
        "    start_time = time.time()\n",
        "    hist = model.fit(X, np.array(y), batch_size=50, verbose=1, epochs=numEpoch, validation_split=0.2, \n",
        "                    callbacks = callbacks)\n",
        "    training_time = start_time - time.time()\n",
        "    model.save(nameFile + '.h5')\n",
        "    return hist.history['loss'], hist.history['accuracy'], training_time"
      ],
      "execution_count": 37,
      "outputs": []
    },
    {
      "cell_type": "code",
      "metadata": {
        "id": "M5LMbApOmkTo"
      },
      "source": [
        "def evaluate_model(model, X_test, y_test):\n",
        "  strat_time = time.time()\n",
        "  acc = model.evaluate(X_test, np.array(y_test))\n",
        "  eval_time = start_time - time.time()\n",
        "  return acc"
      ],
      "execution_count": 38,
      "outputs": []
    },
    {
      "cell_type": "code",
      "metadata": {
        "colab": {
          "base_uri": "https://localhost:8080/",
          "height": 654
        },
        "id": "CuWBgpwSmkTo",
        "outputId": "0c3136b7-303b-4e2e-fa44-c5a50baf898e"
      },
      "source": [
        "# LSTM \n",
        "lossLSTM, accLSTM, timeLstm = train_model(X_train, y_train, LSTMmodel, 50, 'LSTM')"
      ],
      "execution_count": 39,
      "outputs": [
        {
          "output_type": "display_data",
          "data": {
            "image/png": "[encoded data removed]",
            "text/plain": [
              "<Figure size 864x576 with 2 Axes>"
            ]
          },
          "metadata": {
            "needs_background": "light"
          }
        },
        {
          "output_type": "stream",
          "name": "stdout",
          "text": [
            "accuracy\n",
            "\ttraining         \t (min:    0.967, max:    0.996, cur:    0.996)\n",
            "\tvalidation       \t (min:    0.977, max:    0.991, cur:    0.991)\n",
            "Loss\n",
            "\ttraining         \t (min:    0.012, max:    0.207, cur:    0.012)\n",
            "\tvalidation       \t (min:    0.031, max:    0.082, cur:    0.034)\n",
            "\b\b\b\b\b\b\b\b\b\b\b\b\b\b\b\b\b\b\b\b\b\b\b\b\b\b\b\b\b\b\b\b\b\b\b\b\b\b\b\b\b\b\b\b\b\b\b\b\b\b\b\b\b\b\b\b\b\b\b\b\b\b\b\b\b\b\b\b\b\b\b\b\b\b\b\b\b\b\b\b\b\b\b\b\r614/614 [==============================] - 81s 132ms/step - loss: 0.0122 - accuracy: 0.9959 - val_loss: 0.0344 - val_accuracy: 0.9909\n"
          ]
        }
      ]
    },
    {
      "cell_type": "code",
      "metadata": {
        "colab": {
          "base_uri": "https://localhost:8080/",
          "height": 654
        },
        "id": "q4xZTnqYs-xq",
        "outputId": "fa7e2a5e-b9f3-4fb7-ce4f-c3268d5a647e"
      },
      "source": [
        "lossCRF, accuracyCRF, timeCRF = train_model(X_train, y_train, \n",
        "                                               crf_model, 50, 'Crf')"
      ],
      "execution_count": 40,
      "outputs": [
        {
          "output_type": "display_data",
          "data": {
            "image/png": "[encoded data removed]",
            "text/plain": [
              "<Figure size 864x576 with 2 Axes>"
            ]
          },
          "metadata": {
            "needs_background": "light"
          }
        },
        {
          "output_type": "stream",
          "name": "stdout",
          "text": [
            "accuracy\n",
            "\ttraining         \t (min:    0.743, max:    0.991, cur:    0.991)\n",
            "\tvalidation       \t (min:    0.968, max:    0.989, cur:    0.989)\n",
            "Loss\n",
            "\ttraining         \t (min:    0.006, max:    0.410, cur:    0.006)\n",
            "\tvalidation       \t (min:    0.009, max:    0.136, cur:    0.009)\n",
            "\b\b\b\b\b\b\b\b\b\b\b\b\b\b\b\b\b\b\b\b\b\b\b\b\b\b\b\b\b\b\b\b\b\b\b\b\b\b\b\b\b\b\b\b\b\b\b\b\b\b\b\b\b\b\b\b\b\b\b\b\b\b\b\b\b\b\b\b\b\b\b\b\b\b\b\b\b\b\b\b\b\b\b\b\r614/614 [==============================] - 19s 31ms/step - loss: 0.0059 - accuracy: 0.9912 - val_loss: 0.0088 - val_accuracy: 0.9889\n"
          ]
        }
      ]
    },
    {
      "cell_type": "code",
      "metadata": {
        "id": "a911TfJpxXiO",
        "colab": {
          "base_uri": "https://localhost:8080/",
          "height": 654
        },
        "outputId": "0c0e3341-ab35-4b2e-8d78-27b4dc6d1a89"
      },
      "source": [
        "lossLCRF, accuracyLCRF, timeLCRF = train_model(X_train, y_train, \n",
        "                                               crf_lstm, 50, 'LCrf')"
      ],
      "execution_count": 41,
      "outputs": [
        {
          "output_type": "display_data",
          "data": {
            "image/png": "[encoded data removed]",
            "text/plain": [
              "<Figure size 864x576 with 2 Axes>"
            ]
          },
          "metadata": {
            "needs_background": "light"
          }
        },
        {
          "output_type": "stream",
          "name": "stdout",
          "text": [
            "accuracy\n",
            "\ttraining         \t (min:    0.966, max:    0.996, cur:    0.996)\n",
            "\tvalidation       \t (min:    0.975, max:    0.991, cur:    0.991)\n",
            "Loss\n",
            "\ttraining         \t (min:    0.002, max:    0.047, cur:    0.002)\n",
            "\tvalidation       \t (min:    0.009, max:    0.024, cur:    0.024)\n",
            "\b\b\b\b\b\b\b\b\b\b\b\b\b\b\b\b\b\b\b\b\b\b\b\b\b\b\b\b\b\b\b\b\b\b\b\b\b\b\b\b\b\b\b\b\b\b\b\b\b\b\b\b\b\b\b\b\b\b\b\b\b\b\b\b\b\b\b\b\b\b\b\b\b\b\b\b\b\b\b\b\b\b\b\b\r614/614 [==============================] - 84s 136ms/step - loss: 0.0021 - accuracy: 0.9965 - val_loss: 0.0242 - val_accuracy: 0.9907\n"
          ]
        }
      ]
    },
    {
      "cell_type": "code",
      "metadata": {
        "id": "tAm_6TFOyC4o",
        "colab": {
          "base_uri": "https://localhost:8080/",
          "height": 654
        },
        "outputId": "a9851162-13d1-4c94-c72d-3afdaa06ddc5"
      },
      "source": [
        "lossBLCRF, accuracyBLCRF, timeBLCRF = train_model(X_train, y_train, \n",
        "                                               crf_BiLstm, 50, 'BLCrf')"
      ],
      "execution_count": 42,
      "outputs": [
        {
          "output_type": "display_data",
          "data": {
            "image/png": "[encoded data removed]",
            "text/plain": [
              "<Figure size 864x576 with 2 Axes>"
            ]
          },
          "metadata": {
            "needs_background": "light"
          }
        },
        {
          "output_type": "stream",
          "name": "stdout",
          "text": [
            "accuracy\n",
            "\ttraining         \t (min:    0.967, max:    0.998, cur:    0.998)\n",
            "\tvalidation       \t (min:    0.974, max:    0.992, cur:    0.991)\n",
            "Loss\n",
            "\ttraining         \t (min:    0.001, max:    0.041, cur:    0.001)\n",
            "\tvalidation       \t (min:    0.009, max:    0.036, cur:    0.036)\n",
            "\b\b\b\b\b\b\b\b\b\b\b\b\b\b\b\b\b\b\b\b\b\b\b\b\b\b\b\b\b\b\b\b\b\b\b\b\b\b\b\b\b\b\b\b\b\b\b\b\b\b\b\b\b\b\b\b\b\b\b\b\b\b\b\b\b\b\b\b\b\b\b\b\b\b\b\b\b\b\b\b\b\b\b\b\r614/614 [==============================] - 198s 323ms/step - loss: 0.0014 - accuracy: 0.9979 - val_loss: 0.0365 - val_accuracy: 0.9913\n"
          ]
        }
      ]
    },
    {
      "cell_type": "code",
      "metadata": {
        "id": "69dt1m6bdrxO"
      },
      "source": [
        "# tabulating the metrics\n",
        "model_metrics = {'Models':['LSTM', 'CRF', 'LSTM-CRF', 'BiLSTM-CRF'], \n",
        "                 'training_loss': [0.012, 0.006, 0.002, 0.0014],\n",
        "                 'training_accuracy': [0.996, 0.991, 0.996, 0.9979],\n",
        "                 'validation_loss': [0.034, 0.009, 0.024, 0.0365],\n",
        "                 'validation_accuracy': [0.991, 0.989, 0.991, 0.9913],\n",
        "                 'training_time(seconds)': [-timeLstm, -timeCRF, -timeLCRF, -timeBLCRF]}"
      ],
      "execution_count": 51,
      "outputs": []
    },
    {
      "cell_type": "code",
      "metadata": {
        "colab": {
          "base_uri": "https://localhost:8080/",
          "height": 260
        },
        "id": "purVj1ZCnebl",
        "outputId": "9f611b10-8f15-490a-a76d-4d44d78d5703"
      },
      "source": [
        "model_metrics = pd.DataFrame(model_metrics).set_index('Models')\n",
        "model_metrics.head()"
      ],
      "execution_count": 52,
      "outputs": [
        {
          "output_type": "execute_result",
          "data": {
            "text/html": [
              "<div>\n",
              "<style scoped>\n",
              "    .dataframe tbody tr th:only-of-type {\n",
              "        vertical-align: middle;\n",
              "    }\n",
              "\n",
              "    .dataframe tbody tr th {\n",
              "        vertical-align: top;\n",
              "    }\n",
              "\n",
              "    .dataframe thead th {\n",
              "        text-align: right;\n",
              "    }\n",
              "</style>\n",
              "<table border=\"1\" class=\"dataframe\">\n",
              "  <thead>\n",
              "    <tr style=\"text-align: right;\">\n",
              "      <th></th>\n",
              "      <th>training_loss</th>\n",
              "      <th>training_accuracy</th>\n",
              "      <th>validation_loss</th>\n",
              "      <th>validation_accuracy</th>\n",
              "      <th>training_time(seconds)</th>\n",
              "    </tr>\n",
              "    <tr>\n",
              "      <th>Models</th>\n",
              "      <th></th>\n",
              "      <th></th>\n",
              "      <th></th>\n",
              "      <th></th>\n",
              "      <th></th>\n",
              "    </tr>\n",
              "  </thead>\n",
              "  <tbody>\n",
              "    <tr>\n",
              "      <th>LSTM</th>\n",
              "      <td>0.0120</td>\n",
              "      <td>0.9960</td>\n",
              "      <td>0.0340</td>\n",
              "      <td>0.9910</td>\n",
              "      <td>968.629908</td>\n",
              "    </tr>\n",
              "    <tr>\n",
              "      <th>CRF</th>\n",
              "      <td>0.0060</td>\n",
              "      <td>0.9910</td>\n",
              "      <td>0.0090</td>\n",
              "      <td>0.9890</td>\n",
              "      <td>563.124631</td>\n",
              "    </tr>\n",
              "    <tr>\n",
              "      <th>LSTM-CRF</th>\n",
              "      <td>0.0020</td>\n",
              "      <td>0.9960</td>\n",
              "      <td>0.0240</td>\n",
              "      <td>0.9910</td>\n",
              "      <td>1089.292771</td>\n",
              "    </tr>\n",
              "    <tr>\n",
              "      <th>BiLSTM-CRF</th>\n",
              "      <td>0.0014</td>\n",
              "      <td>0.9979</td>\n",
              "      <td>0.0365</td>\n",
              "      <td>0.9913</td>\n",
              "      <td>2974.175978</td>\n",
              "    </tr>\n",
              "  </tbody>\n",
              "</table>\n",
              "</div>"
            ],
            "text/plain": [
              "            training_loss  ...  training_time(seconds)\n",
              "Models                     ...                        \n",
              "LSTM               0.0120  ...              968.629908\n",
              "CRF                0.0060  ...              563.124631\n",
              "LSTM-CRF           0.0020  ...             1089.292771\n",
              "BiLSTM-CRF         0.0014  ...             2974.175978\n",
              "\n",
              "[4 rows x 5 columns]"
            ]
          },
          "metadata": {},
          "execution_count": 52
        }
      ]
    }
  ]
}